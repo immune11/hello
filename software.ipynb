{
 "cells": [
  {
   "cell_type": "code",
   "execution_count": 10,
   "id": "1094a558",
   "metadata": {},
   "outputs": [
    {
     "name": "stdout",
     "output_type": "stream",
     "text": [
      "Please enter the number of times to print:4\n",
      "Please choose the language:r\n",
      "Wrong language\n"
     ]
    }
   ],
   "source": [
    "import sys\n",
    "\n",
    "def print_hello(num,language):\n",
    "    if language == \"English\":\n",
    "        for i in range(num):\n",
    "            print(\"hello\")\n",
    "    elif language == \"Chinese\":\n",
    "        for i in range(num):\n",
    "            print(\"ni hao\")\n",
    "    elif language == \"Russian\":\n",
    "        for i in range(num):\n",
    "            print(\"privet\")\n",
    "    else:\n",
    "        print(\"Wrong language\")\n",
    "\n",
    "if __name__ == \"__main__\":\n",
    "    num = int(input(\"Please enter the number of times to print:\"))\n",
    "    language =input(\"Please choose the language:\")\n",
    "    print_hello(num,language)\n",
    "    \n",
    "       \n"
   ]
  },
  {
   "cell_type": "code",
   "execution_count": null,
   "id": "0338d4aa",
   "metadata": {},
   "outputs": [],
   "source": []
  }
 ],
 "metadata": {
  "kernelspec": {
   "display_name": "Python 3 (ipykernel)",
   "language": "python",
   "name": "python3"
  },
  "language_info": {
   "codemirror_mode": {
    "name": "ipython",
    "version": 3
   },
   "file_extension": ".py",
   "mimetype": "text/x-python",
   "name": "python",
   "nbconvert_exporter": "python",
   "pygments_lexer": "ipython3",
   "version": "3.9.12"
  }
 },
 "nbformat": 4,
 "nbformat_minor": 5
}
